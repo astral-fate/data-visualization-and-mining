{
 "cells": [
  {
   "cell_type": "markdown",
   "metadata": {},
   "source": [
    "# TM351 Data management and analysis \n",
    "\n",
    "# Fall   2021-22 TMA Notebook Template"
   ]
  },
  {
   "cell_type": "markdown",
   "metadata": {},
   "source": [
    "## _Please complete the information below :_\n",
    "\n",
    "\n",
    "### Student Name:  Fatma Mohammed Emad El-Din\n",
    "\n",
    "### Student ID:  19420391\n",
    "\n",
    "\n",
    "    "
   ]
  },
  {
   "cell_type": "markdown",
   "metadata": {},
   "source": [
    "***\n",
    "# Question 1 (30 marks)\n",
    "\n",
    "<div class=\"alert alert-block alert-warning\">\n",
    "_Please insert your notebook work related to this question in a sequence of markdown and well commented SOLVED code cells below.\n",
    "Write the final answers to the 10 questions in the solution word processing document (the solution document)._"
   ]
  },
  {
   "cell_type": "markdown",
   "metadata": {},
   "source": []
  },
  {
   "cell_type": "markdown",
   "metadata": {},
   "source": [
    "# Question 2 (10 marks)\n",
    "\n",
    "<div class=\"alert alert-block alert-warning\">\n",
    "_Please complete and submit all the requested Jupyter notebooks in a \"solved form as a separate .rar  or .zip file._\n"
   ]
  },
  {
   "cell_type": "code",
   "execution_count": 1,
   "metadata": {},
   "outputs": [
    {
     "name": "stdout",
     "output_type": "stream",
     "text": [
      "\u001b[33mDEPRECATION: Python 3.5 reached the end of its life on September 13th, 2020. Please upgrade your Python as Python 3.5 is no longer maintained. pip 21.0 will drop support for Python 3.5 in January 2021. pip 21.0 will remove support for this functionality.\u001b[0m\n",
      "Requirement already satisfied: jupyter in /usr/local/lib/python3.5/dist-packages (1.0.0)\n",
      "Collecting jupyter\n",
      "  Using cached jupyter-1.0.0-py2.py3-none-any.whl (2.7 kB)\n",
      "Requirement already satisfied: jupyter-console in /usr/local/lib/python3.5/dist-packages (from jupyter) (5.1.0)\n",
      "Requirement already satisfied: notebook in /usr/local/lib/python3.5/dist-packages (from jupyter) (5.0.0)\n",
      "Requirement already satisfied: qtconsole in /usr/local/lib/python3.5/dist-packages (from jupyter) (4.3.0)\n",
      "Requirement already satisfied: ipykernel in /usr/local/lib/python3.5/dist-packages (from jupyter) (4.6.1)\n",
      "Requirement already satisfied: nbconvert in /usr/local/lib/python3.5/dist-packages (from jupyter) (5.2.1)\n",
      "Requirement already satisfied: ipywidgets in /usr/local/lib/python3.5/dist-packages (from jupyter) (6.0.0)\n",
      "Requirement already satisfied: tornado>=4.0 in /usr/local/lib/python3.5/dist-packages (from ipykernel->jupyter) (4.5.1)\n",
      "Requirement already satisfied: traitlets>=4.1.0 in /usr/local/lib/python3.5/dist-packages (from ipykernel->jupyter) (4.3.2)\n",
      "Requirement already satisfied: ipython>=4.0.0 in /usr/local/lib/python3.5/dist-packages (from ipykernel->jupyter) (6.1.0)\n",
      "Requirement already satisfied: jupyter-client in /usr/local/lib/python3.5/dist-packages (from ipykernel->jupyter) (5.0.1)\n",
      "Requirement already satisfied: pygments in /usr/local/lib/python3.5/dist-packages (from ipython>=4.0.0->ipykernel->jupyter) (2.2.0)\n",
      "Requirement already satisfied: pickleshare in /usr/local/lib/python3.5/dist-packages (from ipython>=4.0.0->ipykernel->jupyter) (0.7.4)\n",
      "Requirement already satisfied: simplegeneric>0.8 in /usr/local/lib/python3.5/dist-packages (from ipython>=4.0.0->ipykernel->jupyter) (0.8.1)\n",
      "Requirement already satisfied: decorator in /usr/local/lib/python3.5/dist-packages (from ipython>=4.0.0->ipykernel->jupyter) (4.0.11)\n",
      "Requirement already satisfied: jedi>=0.10 in /usr/local/lib/python3.5/dist-packages (from ipython>=4.0.0->ipykernel->jupyter) (0.10.2)\n",
      "Requirement already satisfied: pexpect in /usr/local/lib/python3.5/dist-packages (from ipython>=4.0.0->ipykernel->jupyter) (4.2.1)\n",
      "Requirement already satisfied: prompt-toolkit<2.0.0,>=1.0.4 in /usr/local/lib/python3.5/dist-packages (from ipython>=4.0.0->ipykernel->jupyter) (1.0.14)\n",
      "Requirement already satisfied: setuptools>=18.5 in /usr/lib/python3/dist-packages (from ipython>=4.0.0->ipykernel->jupyter) (20.7.0)\n",
      "Requirement already satisfied: wcwidth in /usr/local/lib/python3.5/dist-packages (from prompt-toolkit<2.0.0,>=1.0.4->ipython>=4.0.0->ipykernel->jupyter) (0.1.7)\n",
      "Requirement already satisfied: six>=1.9.0 in /usr/lib/python3/dist-packages (from prompt-toolkit<2.0.0,>=1.0.4->ipython>=4.0.0->ipykernel->jupyter) (1.10.0)\n",
      "Requirement already satisfied: ipython-genutils in /usr/local/lib/python3.5/dist-packages (from traitlets>=4.1.0->ipykernel->jupyter) (0.2.0)\n",
      "Requirement already satisfied: nbformat>=4.2.0 in /usr/local/lib/python3.5/dist-packages (from ipywidgets->jupyter) (4.3.0)\n",
      "Requirement already satisfied: widgetsnbextension~=2.0.0 in /usr/local/lib/python3.5/dist-packages (from ipywidgets->jupyter) (2.0.0)\n",
      "Requirement already satisfied: jsonschema!=2.5.0,>=2.4 in /usr/local/lib/python3.5/dist-packages (from nbformat>=4.2.0->ipywidgets->jupyter) (2.6.0)\n",
      "Requirement already satisfied: jupyter-core in /usr/local/lib/python3.5/dist-packages (from nbformat>=4.2.0->ipywidgets->jupyter) (4.3.0)\n",
      "Requirement already satisfied: terminado>=0.3.3 in /usr/local/lib/python3.5/dist-packages (from notebook->jupyter) (0.6)\n",
      "Requirement already satisfied: jinja2 in /usr/local/lib/python3.5/dist-packages (from notebook->jupyter) (2.9.6)\n",
      "Requirement already satisfied: ptyprocess in /usr/local/lib/python3.5/dist-packages (from terminado>=0.3.3->notebook->jupyter) (0.5.1)\n",
      "Requirement already satisfied: MarkupSafe>=0.23 in /usr/local/lib/python3.5/dist-packages (from jinja2->notebook->jupyter) (1.0)\n",
      "Requirement already satisfied: pyzmq>=13 in /usr/local/lib/python3.5/dist-packages (from jupyter-client->ipykernel->jupyter) (16.0.2)\n",
      "Requirement already satisfied: python-dateutil>=2.1 in /usr/local/lib/python3.5/dist-packages (from jupyter-client->ipykernel->jupyter) (2.6.0)\n",
      "Requirement already satisfied: entrypoints>=0.2.2 in /usr/local/lib/python3.5/dist-packages (from nbconvert->jupyter) (0.2.2)\n",
      "Requirement already satisfied: bleach in /usr/local/lib/python3.5/dist-packages (from nbconvert->jupyter) (2.0.0)\n",
      "Requirement already satisfied: pandocfilters>=1.4.1 in /usr/local/lib/python3.5/dist-packages (from nbconvert->jupyter) (1.4.1)\n",
      "Requirement already satisfied: testpath in /usr/local/lib/python3.5/dist-packages (from nbconvert->jupyter) (0.3.1)\n",
      "Requirement already satisfied: mistune!=0.6 in /usr/local/lib/python3.5/dist-packages (from nbconvert->jupyter) (0.7.4)\n",
      "Requirement already satisfied: html5lib>=0.99999999 in /usr/local/lib/python3.5/dist-packages (from bleach->nbconvert->jupyter) (0.999999999)\n",
      "Requirement already satisfied: webencodings in /usr/local/lib/python3.5/dist-packages (from html5lib>=0.99999999->bleach->nbconvert->jupyter) (0.5.1)\n",
      "\u001b[33mDEPRECATION: Python 3.5 reached the end of its life on September 13th, 2020. Please upgrade your Python as Python 3.5 is no longer maintained. pip 21.0 will drop support for Python 3.5 in January 2021. pip 21.0 will remove support for this functionality.\u001b[0m\n",
      "Requirement already satisfied: numpy==1.16.4 in /usr/local/lib/python3.5/dist-packages (1.16.4)\n",
      "\u001b[33mDEPRECATION: Python 3.5 reached the end of its life on September 13th, 2020. Please upgrade your Python as Python 3.5 is no longer maintained. pip 21.0 will drop support for Python 3.5 in January 2021. pip 21.0 will remove support for this functionality.\u001b[0m\n",
      "Requirement already satisfied: pip in /usr/local/lib/python3.5/dist-packages (20.3.4)\n",
      "Collecting pip\n",
      "  Using cached pip-20.3.4-py2.py3-none-any.whl (1.5 MB)\n",
      "  Using cached pip-20.3.3-py2.py3-none-any.whl (1.5 MB)\n",
      "\u001b[33mDEPRECATION: Python 3.5 reached the end of its life on September 13th, 2020. Please upgrade your Python as Python 3.5 is no longer maintained. pip 21.0 will drop support for Python 3.5 in January 2021. pip 21.0 will remove support for this functionality.\u001b[0m\n",
      "Requirement already satisfied: seaborn==0.9.0 in /usr/local/lib/python3.5/dist-packages (0.9.0)\n",
      "Collecting seaborn==0.9.0\n",
      "  Using cached seaborn-0.9.0-py3-none-any.whl (208 kB)\n",
      "Requirement already satisfied: matplotlib>=1.4.3 in /usr/local/lib/python3.5/dist-packages (from seaborn==0.9.0) (2.0.2)\n",
      "Requirement already satisfied: numpy>=1.9.3 in /usr/local/lib/python3.5/dist-packages (from seaborn==0.9.0) (1.16.4)\n",
      "Requirement already satisfied: pandas>=0.15.2 in /usr/local/lib/python3.5/dist-packages (from seaborn==0.9.0) (0.20.2)\n",
      "Requirement already satisfied: scipy>=0.14.0 in /usr/local/lib/python3.5/dist-packages (from seaborn==0.9.0) (0.19.0)\n",
      "Requirement already satisfied: pyparsing!=2.0.0,!=2.0.4,!=2.1.2,!=2.1.6,>=1.5.6 in /usr/local/lib/python3.5/dist-packages (from matplotlib>=1.4.3->seaborn==0.9.0) (2.2.0)\n",
      "Requirement already satisfied: cycler>=0.10 in /usr/local/lib/python3.5/dist-packages (from matplotlib>=1.4.3->seaborn==0.9.0) (0.10.0)\n",
      "Requirement already satisfied: pytz in /usr/local/lib/python3.5/dist-packages (from matplotlib>=1.4.3->seaborn==0.9.0) (2017.2)\n",
      "Requirement already satisfied: python-dateutil in /usr/local/lib/python3.5/dist-packages (from matplotlib>=1.4.3->seaborn==0.9.0) (2.6.0)\n",
      "Requirement already satisfied: six>=1.10 in /usr/lib/python3/dist-packages (from matplotlib>=1.4.3->seaborn==0.9.0) (1.10.0)\n",
      "\u001b[33mDEPRECATION: Python 3.5 reached the end of its life on September 13th, 2020. Please upgrade your Python as Python 3.5 is no longer maintained. pip 21.0 will drop support for Python 3.5 in January 2021. pip 21.0 will remove support for this functionality.\u001b[0m\n",
      "Requirement already satisfied: pandasql in /usr/local/lib/python3.5/dist-packages (0.7.3)\n",
      "Requirement already satisfied: numpy in /usr/local/lib/python3.5/dist-packages (from pandasql) (1.16.4)\n",
      "Requirement already satisfied: sqlalchemy in /usr/local/lib/python3.5/dist-packages (from pandasql) (1.1.10)\n",
      "Requirement already satisfied: pandas in /usr/local/lib/python3.5/dist-packages (from pandasql) (0.20.2)\n",
      "Requirement already satisfied: python-dateutil>=2 in /usr/local/lib/python3.5/dist-packages (from pandas->pandasql) (2.6.0)\n",
      "Requirement already satisfied: pytz>=2011k in /usr/local/lib/python3.5/dist-packages (from pandas->pandasql) (2017.2)\n",
      "Requirement already satisfied: six>=1.5 in /usr/lib/python3/dist-packages (from python-dateutil>=2->pandas->pandasql) (1.10.0)\n"
     ]
    },
    {
     "name": "stdout",
     "output_type": "stream",
     "text": [
      "\u001b[33mDEPRECATION: Python 3.5 reached the end of its life on September 13th, 2020. Please upgrade your Python as Python 3.5 is no longer maintained. pip 21.0 will drop support for Python 3.5 in January 2021. pip 21.0 will remove support for this functionality.\u001b[0m\n",
      "Requirement already satisfied: pymongo in /usr/local/lib/python3.5/dist-packages (3.4.0)\n"
     ]
    }
   ],
   "source": [
    "#installing jupyter \n",
    "!pip install -U jupyter\n",
    "#installing python numpy library \n",
    "!pip3 install numpy==1.16.4\n",
    "#upgrading pip  \n",
    "!pip install --upgrade pip\n",
    "#installing seaborn \n",
    "!pip3 install -U seaborn==0.9.0\n",
    "#installing panda's sql library \n",
    "!pip install pandasql\n",
    "#installing mongodb for python \n",
    "!pip install pymongo\n",
    "#importing pandas and give it a shortcut as pd \n",
    "import pandas as pd \n",
    "#importing seaborn and give it a shortcut as sns \n",
    "import seaborn as sns\n",
    "#importing matplot library and give it a shortcut as plt \n",
    "import matplotlib as plt\n",
    "#importing math library\n",
    "import math\n",
    "#importing seaborn and give it a shortcut as sns \n",
    "import seaborn as sns\n",
    "#importing matplot library and give it a shortcut as plt \n",
    "import matplotlib.pyplot as plt\n",
    "#importing javascipt object. aka json \n",
    "import json\n",
    "#importing pandas and give it a shortcut as pd \n",
    "import pandas as pd\n",
    "#importing the statastical scale the mean, from the numpy library\n",
    "from numpy import mean\n",
    "#importing the statastical scale the standard div, from the numpy library\n",
    "from numpy import std\n",
    "#importing pandas and give it a shortcut as DataFrame \n",
    "from pandas import DataFrame\n",
    "#importing panda's sql library \n",
    "from pandasql import sqldf\n",
    "#define a landa function for pandas' dataframe\n",
    "pysqldf = lambda q: sqldf(q, globals())\n",
    "# import numpy as np\n",
    "import numpy as np\n",
    "# import pandas as pd\n",
    "import pandas as pd\n",
    "# import time as time\n",
    "from time import time\n",
    "\n",
    "\n",
    "# Import python mongodb\n",
    "\n",
    "import pymongo\n",
    "#import date time\n",
    "import datetime\n",
    "#import collections\n",
    "import collections\n",
    "#import statistical librs\n",
    "import scipy.stats\n",
    "#import matplot library for python as plt\n",
    "import matplotlib.pyplot as plt"
   ]
  },
  {
   "cell_type": "code",
   "execution_count": 2,
   "metadata": {},
   "outputs": [
    {
     "data": {
      "text/html": [
       "<div>\n",
       "<style>\n",
       "    .dataframe thead tr:only-child th {\n",
       "        text-align: right;\n",
       "    }\n",
       "\n",
       "    .dataframe thead th {\n",
       "        text-align: left;\n",
       "    }\n",
       "\n",
       "    .dataframe tbody tr th {\n",
       "        vertical-align: top;\n",
       "    }\n",
       "</style>\n",
       "<table border=\"1\" class=\"dataframe\">\n",
       "  <thead>\n",
       "    <tr style=\"text-align: right;\">\n",
       "      <th></th>\n",
       "      <th>stop_date</th>\n",
       "      <th>stop_time</th>\n",
       "      <th>country_name</th>\n",
       "      <th>driver_gender</th>\n",
       "      <th>driver_age_raw</th>\n",
       "      <th>driver_age</th>\n",
       "      <th>driver_race</th>\n",
       "      <th>violation_raw</th>\n",
       "      <th>violation</th>\n",
       "      <th>search_conducted</th>\n",
       "      <th>search_type</th>\n",
       "      <th>stop_outcome</th>\n",
       "      <th>is_arrested</th>\n",
       "      <th>stop_duration</th>\n",
       "      <th>drugs_related_stop</th>\n",
       "    </tr>\n",
       "  </thead>\n",
       "  <tbody>\n",
       "    <tr>\n",
       "      <th>0</th>\n",
       "      <td>1/2/2005</td>\n",
       "      <td>1:55</td>\n",
       "      <td>NaN</td>\n",
       "      <td>M</td>\n",
       "      <td>1985.0</td>\n",
       "      <td>20.0</td>\n",
       "      <td>White</td>\n",
       "      <td>Speeding</td>\n",
       "      <td>Speeding</td>\n",
       "      <td>False</td>\n",
       "      <td>NaN</td>\n",
       "      <td>Citation</td>\n",
       "      <td>False</td>\n",
       "      <td>0-15 Min</td>\n",
       "      <td>False</td>\n",
       "    </tr>\n",
       "    <tr>\n",
       "      <th>1</th>\n",
       "      <td>1/18/2005</td>\n",
       "      <td>8:15</td>\n",
       "      <td>NaN</td>\n",
       "      <td>M</td>\n",
       "      <td>1965.0</td>\n",
       "      <td>40.0</td>\n",
       "      <td>White</td>\n",
       "      <td>Speeding</td>\n",
       "      <td>Speeding</td>\n",
       "      <td>False</td>\n",
       "      <td>NaN</td>\n",
       "      <td>Citation</td>\n",
       "      <td>False</td>\n",
       "      <td>0-15 Min</td>\n",
       "      <td>False</td>\n",
       "    </tr>\n",
       "    <tr>\n",
       "      <th>2</th>\n",
       "      <td>1/23/2005</td>\n",
       "      <td>23:15</td>\n",
       "      <td>NaN</td>\n",
       "      <td>M</td>\n",
       "      <td>1972.0</td>\n",
       "      <td>33.0</td>\n",
       "      <td>White</td>\n",
       "      <td>Speeding</td>\n",
       "      <td>Speeding</td>\n",
       "      <td>False</td>\n",
       "      <td>NaN</td>\n",
       "      <td>Citation</td>\n",
       "      <td>False</td>\n",
       "      <td>0-15 Min</td>\n",
       "      <td>False</td>\n",
       "    </tr>\n",
       "    <tr>\n",
       "      <th>3</th>\n",
       "      <td>2/20/2005</td>\n",
       "      <td>17:15</td>\n",
       "      <td>NaN</td>\n",
       "      <td>M</td>\n",
       "      <td>1986.0</td>\n",
       "      <td>19.0</td>\n",
       "      <td>White</td>\n",
       "      <td>Call for Service</td>\n",
       "      <td>Other</td>\n",
       "      <td>False</td>\n",
       "      <td>NaN</td>\n",
       "      <td>Arrest Driver</td>\n",
       "      <td>True</td>\n",
       "      <td>16-30 Min</td>\n",
       "      <td>False</td>\n",
       "    </tr>\n",
       "    <tr>\n",
       "      <th>4</th>\n",
       "      <td>3/14/2005</td>\n",
       "      <td>10:00</td>\n",
       "      <td>NaN</td>\n",
       "      <td>F</td>\n",
       "      <td>1984.0</td>\n",
       "      <td>21.0</td>\n",
       "      <td>White</td>\n",
       "      <td>Speeding</td>\n",
       "      <td>Speeding</td>\n",
       "      <td>False</td>\n",
       "      <td>NaN</td>\n",
       "      <td>Citation</td>\n",
       "      <td>False</td>\n",
       "      <td>0-15 Min</td>\n",
       "      <td>False</td>\n",
       "    </tr>\n",
       "    <tr>\n",
       "      <th>5</th>\n",
       "      <td>3/23/2005</td>\n",
       "      <td>9:45</td>\n",
       "      <td>NaN</td>\n",
       "      <td>M</td>\n",
       "      <td>1982.0</td>\n",
       "      <td>23.0</td>\n",
       "      <td>Black</td>\n",
       "      <td>Equipment/Inspection Violation</td>\n",
       "      <td>Equipment</td>\n",
       "      <td>False</td>\n",
       "      <td>NaN</td>\n",
       "      <td>Citation</td>\n",
       "      <td>False</td>\n",
       "      <td>0-15 Min</td>\n",
       "      <td>False</td>\n",
       "    </tr>\n",
       "    <tr>\n",
       "      <th>6</th>\n",
       "      <td>4/1/2005</td>\n",
       "      <td>17:30</td>\n",
       "      <td>NaN</td>\n",
       "      <td>M</td>\n",
       "      <td>1969.0</td>\n",
       "      <td>36.0</td>\n",
       "      <td>White</td>\n",
       "      <td>Speeding</td>\n",
       "      <td>Speeding</td>\n",
       "      <td>False</td>\n",
       "      <td>NaN</td>\n",
       "      <td>Citation</td>\n",
       "      <td>False</td>\n",
       "      <td>0-15 Min</td>\n",
       "      <td>False</td>\n",
       "    </tr>\n",
       "    <tr>\n",
       "      <th>7</th>\n",
       "      <td>6/6/2005</td>\n",
       "      <td>13:20</td>\n",
       "      <td>NaN</td>\n",
       "      <td>F</td>\n",
       "      <td>1986.0</td>\n",
       "      <td>19.0</td>\n",
       "      <td>White</td>\n",
       "      <td>Speeding</td>\n",
       "      <td>Speeding</td>\n",
       "      <td>False</td>\n",
       "      <td>NaN</td>\n",
       "      <td>Citation</td>\n",
       "      <td>False</td>\n",
       "      <td>0-15 Min</td>\n",
       "      <td>False</td>\n",
       "    </tr>\n",
       "    <tr>\n",
       "      <th>8</th>\n",
       "      <td>7/13/2005</td>\n",
       "      <td>10:15</td>\n",
       "      <td>NaN</td>\n",
       "      <td>M</td>\n",
       "      <td>1970.0</td>\n",
       "      <td>35.0</td>\n",
       "      <td>Black</td>\n",
       "      <td>Speeding</td>\n",
       "      <td>Speeding</td>\n",
       "      <td>False</td>\n",
       "      <td>NaN</td>\n",
       "      <td>Citation</td>\n",
       "      <td>False</td>\n",
       "      <td>0-15 Min</td>\n",
       "      <td>False</td>\n",
       "    </tr>\n",
       "    <tr>\n",
       "      <th>9</th>\n",
       "      <td>7/13/2005</td>\n",
       "      <td>15:45</td>\n",
       "      <td>NaN</td>\n",
       "      <td>M</td>\n",
       "      <td>1970.0</td>\n",
       "      <td>35.0</td>\n",
       "      <td>White</td>\n",
       "      <td>Speeding</td>\n",
       "      <td>Speeding</td>\n",
       "      <td>False</td>\n",
       "      <td>NaN</td>\n",
       "      <td>Citation</td>\n",
       "      <td>False</td>\n",
       "      <td>0-15 Min</td>\n",
       "      <td>False</td>\n",
       "    </tr>\n",
       "  </tbody>\n",
       "</table>\n",
       "</div>"
      ],
      "text/plain": [
       "   stop_date stop_time  country_name driver_gender  driver_age_raw  \\\n",
       "0   1/2/2005      1:55           NaN             M          1985.0   \n",
       "1  1/18/2005      8:15           NaN             M          1965.0   \n",
       "2  1/23/2005     23:15           NaN             M          1972.0   \n",
       "3  2/20/2005     17:15           NaN             M          1986.0   \n",
       "4  3/14/2005     10:00           NaN             F          1984.0   \n",
       "5  3/23/2005      9:45           NaN             M          1982.0   \n",
       "6   4/1/2005     17:30           NaN             M          1969.0   \n",
       "7   6/6/2005     13:20           NaN             F          1986.0   \n",
       "8  7/13/2005     10:15           NaN             M          1970.0   \n",
       "9  7/13/2005     15:45           NaN             M          1970.0   \n",
       "\n",
       "   driver_age driver_race                   violation_raw  violation  \\\n",
       "0        20.0       White                        Speeding   Speeding   \n",
       "1        40.0       White                        Speeding   Speeding   \n",
       "2        33.0       White                        Speeding   Speeding   \n",
       "3        19.0       White                Call for Service      Other   \n",
       "4        21.0       White                        Speeding   Speeding   \n",
       "5        23.0       Black  Equipment/Inspection Violation  Equipment   \n",
       "6        36.0       White                        Speeding   Speeding   \n",
       "7        19.0       White                        Speeding   Speeding   \n",
       "8        35.0       Black                        Speeding   Speeding   \n",
       "9        35.0       White                        Speeding   Speeding   \n",
       "\n",
       "  search_conducted search_type   stop_outcome is_arrested stop_duration  \\\n",
       "0            False         NaN       Citation       False      0-15 Min   \n",
       "1            False         NaN       Citation       False      0-15 Min   \n",
       "2            False         NaN       Citation       False      0-15 Min   \n",
       "3            False         NaN  Arrest Driver        True     16-30 Min   \n",
       "4            False         NaN       Citation       False      0-15 Min   \n",
       "5            False         NaN       Citation       False      0-15 Min   \n",
       "6            False         NaN       Citation       False      0-15 Min   \n",
       "7            False         NaN       Citation       False      0-15 Min   \n",
       "8            False         NaN       Citation       False      0-15 Min   \n",
       "9            False         NaN       Citation       False      0-15 Min   \n",
       "\n",
       "  drugs_related_stop  \n",
       "0              False  \n",
       "1              False  \n",
       "2              False  \n",
       "3              False  \n",
       "4              False  \n",
       "5              False  \n",
       "6              False  \n",
       "7              False  \n",
       "8              False  \n",
       "9              False  "
      ]
     },
     "execution_count": 2,
     "metadata": {},
     "output_type": "execute_result"
    }
   ],
   "source": [
    "#read data from path traffic_violaions.csv\n",
    "traffic_violaions_df=pd.read_csv(r'traffic_violaions.csv')\n",
    "#create 10 rows in our table\n",
    "traffic_violaions_df.head(10)"
   ]
  },
  {
   "cell_type": "code",
   "execution_count": 3,
   "metadata": {},
   "outputs": [
    {
     "name": "stdout",
     "output_type": "stream",
     "text": [
      "<class 'pandas.core.frame.DataFrame'>\n",
      "RangeIndex: 52966 entries, 0 to 52965\n",
      "Data columns (total 15 columns):\n",
      "stop_date             52966 non-null object\n",
      "stop_time             52965 non-null object\n",
      "country_name          0 non-null float64\n",
      "driver_gender         49580 non-null object\n",
      "driver_age_raw        49588 non-null float64\n",
      "driver_age            49346 non-null float64\n",
      "driver_race           49581 non-null object\n",
      "violation_raw         49581 non-null object\n",
      "violation             49581 non-null object\n",
      "search_conducted      52965 non-null object\n",
      "search_type           2085 non-null object\n",
      "stop_outcome          49581 non-null object\n",
      "is_arrested           49581 non-null object\n",
      "stop_duration         49581 non-null object\n",
      "drugs_related_stop    52965 non-null object\n",
      "dtypes: float64(3), object(12)\n",
      "memory usage: 6.1+ MB\n"
     ]
    }
   ],
   "source": [
    "#examine details of the table\n",
    "traffic_violaions_df.info()"
   ]
  },
  {
   "cell_type": "code",
   "execution_count": 4,
   "metadata": {
    "scrolled": true
   },
   "outputs": [
    {
     "data": {
      "text/html": [
       "<div>\n",
       "<style>\n",
       "    .dataframe thead tr:only-child th {\n",
       "        text-align: right;\n",
       "    }\n",
       "\n",
       "    .dataframe thead th {\n",
       "        text-align: left;\n",
       "    }\n",
       "\n",
       "    .dataframe tbody tr th {\n",
       "        vertical-align: top;\n",
       "    }\n",
       "</style>\n",
       "<table border=\"1\" class=\"dataframe\">\n",
       "  <thead>\n",
       "    <tr style=\"text-align: right;\">\n",
       "      <th></th>\n",
       "      <th>country_name</th>\n",
       "      <th>driver_age_raw</th>\n",
       "      <th>driver_age</th>\n",
       "    </tr>\n",
       "  </thead>\n",
       "  <tbody>\n",
       "    <tr>\n",
       "      <th>count</th>\n",
       "      <td>0.0</td>\n",
       "      <td>49588.000000</td>\n",
       "      <td>49346.000000</td>\n",
       "    </tr>\n",
       "    <tr>\n",
       "      <th>mean</th>\n",
       "      <td>NaN</td>\n",
       "      <td>1965.712229</td>\n",
       "      <td>34.171483</td>\n",
       "    </tr>\n",
       "    <tr>\n",
       "      <th>std</th>\n",
       "      <td>NaN</td>\n",
       "      <td>132.195712</td>\n",
       "      <td>12.769907</td>\n",
       "    </tr>\n",
       "    <tr>\n",
       "      <th>min</th>\n",
       "      <td>NaN</td>\n",
       "      <td>0.000000</td>\n",
       "      <td>15.000000</td>\n",
       "    </tr>\n",
       "    <tr>\n",
       "      <th>25%</th>\n",
       "      <td>NaN</td>\n",
       "      <td>1965.000000</td>\n",
       "      <td>23.000000</td>\n",
       "    </tr>\n",
       "    <tr>\n",
       "      <th>50%</th>\n",
       "      <td>NaN</td>\n",
       "      <td>1977.000000</td>\n",
       "      <td>31.000000</td>\n",
       "    </tr>\n",
       "    <tr>\n",
       "      <th>75%</th>\n",
       "      <td>NaN</td>\n",
       "      <td>1985.000000</td>\n",
       "      <td>43.000000</td>\n",
       "    </tr>\n",
       "    <tr>\n",
       "      <th>max</th>\n",
       "      <td>NaN</td>\n",
       "      <td>8801.000000</td>\n",
       "      <td>88.000000</td>\n",
       "    </tr>\n",
       "  </tbody>\n",
       "</table>\n",
       "</div>"
      ],
      "text/plain": [
       "       country_name  driver_age_raw    driver_age\n",
       "count           0.0    49588.000000  49346.000000\n",
       "mean            NaN     1965.712229     34.171483\n",
       "std             NaN      132.195712     12.769907\n",
       "min             NaN        0.000000     15.000000\n",
       "25%             NaN     1965.000000     23.000000\n",
       "50%             NaN     1977.000000     31.000000\n",
       "75%             NaN     1985.000000     43.000000\n",
       "max             NaN     8801.000000     88.000000"
      ]
     },
     "execution_count": 4,
     "metadata": {},
     "output_type": "execute_result"
    }
   ],
   "source": [
    "#describe the info of the table\n",
    "traffic_violaions_df.describe()"
   ]
  },
  {
   "cell_type": "markdown",
   "metadata": {},
   "source": [
    "### check completeness"
   ]
  },
  {
   "cell_type": "code",
   "execution_count": 5,
   "metadata": {},
   "outputs": [
    {
     "data": {
      "text/plain": [
       "stop_date                 0\n",
       "stop_time                 1\n",
       "country_name          52966\n",
       "driver_gender          3386\n",
       "driver_age_raw         3378\n",
       "driver_age             3620\n",
       "driver_race            3385\n",
       "violation_raw          3385\n",
       "violation              3385\n",
       "search_conducted          1\n",
       "search_type           50881\n",
       "stop_outcome           3385\n",
       "is_arrested            3385\n",
       "stop_duration          3385\n",
       "drugs_related_stop        1\n",
       "dtype: int64"
      ]
     },
     "execution_count": 5,
     "metadata": {},
     "output_type": "execute_result"
    }
   ],
   "source": [
    "#calculate the sum and the null values of the table\n",
    "traffic_violaions_df.isnull().sum()"
   ]
  },
  {
   "cell_type": "code",
   "execution_count": 6,
   "metadata": {},
   "outputs": [
    {
     "name": "stdout",
     "output_type": "stream",
     "text": [
      "Total Missing values: 134544\n"
     ]
    }
   ],
   "source": [
    "#print the total number of missing values\n",
    "print (\"Total Missing values: \" + str(traffic_violaions_df.isnull().sum().sum()))"
   ]
  },
  {
   "cell_type": "markdown",
   "metadata": {},
   "source": [
    "### Remove columns country_name and search_type since we don't need them in analysis"
   ]
  },
  {
   "cell_type": "code",
   "execution_count": 7,
   "metadata": {},
   "outputs": [
    {
     "name": "stdout",
     "output_type": "stream",
     "text": [
      "Total Missing values: 30697\n"
     ]
    }
   ],
   "source": [
    "#delete country_name, and search_type columns \n",
    "traffic_violaions_df.drop(['country_name','search_type'],axis=1,inplace=True)\n",
    "#only print the empty columns of traffic_violaions\n",
    "print (\"Total Missing values: \" + str(traffic_violaions_df.isnull().sum().sum()))"
   ]
  },
  {
   "cell_type": "markdown",
   "metadata": {},
   "source": [
    "### Check Acurracy, OUTLIERS"
   ]
  },
  {
   "cell_type": "code",
   "execution_count": 8,
   "metadata": {},
   "outputs": [
    {
     "name": "stdout",
     "output_type": "stream",
     "text": [
      "Outliers in: stop_time: \n",
      "0\n",
      "Outliers in: driver_gender: \n",
      "0\n",
      "Outliers in: driver_age_raw: \n",
      "2\n",
      "Outliers in: driver_age: \n",
      "186\n",
      "Outliers in: driver_race: \n",
      "0\n",
      "Outliers in: violation_raw: \n",
      "0\n",
      "Outliers in: violation: \n",
      "0\n",
      "Outliers in: search_conducted: \n",
      "2085\n",
      "Outliers in: stop_outcome: \n",
      "0\n",
      "Outliers in: is_arrested: \n",
      "1869\n",
      "Outliers in: stop_duration: \n",
      "0\n",
      "Outliers in: drugs_related_stop: \n",
      "396\n",
      "Identified outliers: 4538\n"
     ]
    }
   ],
   "source": [
    "#calclute the mean of the traffic_violaions_df()\n",
    "data_mean = mean(traffic_violaions_df._get_numeric_data())\n",
    "#calcuate stanrd divs of the traffic_violaions_df() \n",
    "data_std = std(traffic_violaions_df._get_numeric_data())\n",
    "# identify the data that's spread from the mean; aka the outliers\n",
    "cut_off = data_std * 3\n",
    "lower, upper = data_mean - cut_off, data_mean + cut_off\n",
    "# define the data that's spread from the mean; aka the outliers\n",
    "total_outliers = 0\n",
    "#create for loop to loop over the values of enumerate\n",
    "for i, x in enumerate(traffic_violaions_df):\n",
    "    #if statment if i=0, print number of outliers\n",
    "    if not i == 0:\n",
    "        print (\"Outliers in: \" + str(x) + \": \")\n",
    "        #try & catch, using a list to calculate the mean\n",
    "        try:\n",
    "            outliers = traffic_violaions_df[traffic_violaions_df[x] > traffic_violaions_df[x].mean() + 3 * traffic_violaions_df[x].std()]\n",
    "            #print the lenght of the outliers\n",
    "            print (len(outliers))\n",
    "            #print the total lenght of the outliers\n",
    "            total_outliers += len(outliers)\n",
    "            #exept statment\n",
    "        except:\n",
    "            #print 0 \n",
    "            print(\"0\")\n",
    "#print total number of outliers \n",
    "print('Identified outliers: %d' % total_outliers)\n"
   ]
  },
  {
   "cell_type": "markdown",
   "metadata": {},
   "source": [
    "### Check the consistancy of the data: if the data is consistance, chick duplicated to see if there are inconsistency data"
   ]
  },
  {
   "cell_type": "code",
   "execution_count": 10,
   "metadata": {},
   "outputs": [
    {
     "data": {
      "text/plain": [
       "286"
      ]
     },
     "execution_count": 10,
     "metadata": {},
     "output_type": "execute_result"
    }
   ],
   "source": [
    "#calclate the sum of the raffic_violaions_df\n",
    "pd.DataFrame.duplicated(traffic_violaions_df).sum()"
   ]
  },
  {
   "cell_type": "markdown",
   "metadata": {},
   "source": [
    "### Check Validity: 2 attributes in the driver_age_raw are not a valid year"
   ]
  },
  {
   "cell_type": "code",
   "execution_count": 9,
   "metadata": {},
   "outputs": [
    {
     "data": {
      "text/html": [
       "<div>\n",
       "<style>\n",
       "    .dataframe thead tr:only-child th {\n",
       "        text-align: right;\n",
       "    }\n",
       "\n",
       "    .dataframe thead th {\n",
       "        text-align: left;\n",
       "    }\n",
       "\n",
       "    .dataframe tbody tr th {\n",
       "        vertical-align: top;\n",
       "    }\n",
       "</style>\n",
       "<table border=\"1\" class=\"dataframe\">\n",
       "  <thead>\n",
       "    <tr style=\"text-align: right;\">\n",
       "      <th></th>\n",
       "      <th>driver_age_raw</th>\n",
       "    </tr>\n",
       "  </thead>\n",
       "  <tbody>\n",
       "    <tr>\n",
       "      <th>0</th>\n",
       "      <td>8801.0</td>\n",
       "    </tr>\n",
       "    <tr>\n",
       "      <th>1</th>\n",
       "      <td>2919.0</td>\n",
       "    </tr>\n",
       "  </tbody>\n",
       "</table>\n",
       "</div>"
      ],
      "text/plain": [
       "   driver_age_raw\n",
       "0          8801.0\n",
       "1          2919.0"
      ]
     },
     "execution_count": 9,
     "metadata": {},
     "output_type": "execute_result"
    }
   ],
   "source": [
    "#import sql \n",
    "query = '''SELECT driver_age_raw\n",
    "FROM traffic_violaions_df  \n",
    "where driver_age_raw  > 2022 \n",
    "'''\n",
    "# set python sql dataframe to query\n",
    "result = pysqldf(query)\n",
    "#print the sql query\n",
    "result"
   ]
  },
  {
   "cell_type": "markdown",
   "metadata": {},
   "source": [
    "# Question 3 - Project (45 marks)\n",
    "\n",
    "<div class=\"alert alert-block alert-warning\">\n",
    "_Please complete all notebook work that is needed to support your conclusions for this project question in a series of markdown and well-commented SOLVED code cells below.  Supply the project report itself in the in the solution document._\n"
   ]
  },
  {
   "cell_type": "markdown",
   "metadata": {},
   "source": [
    "## Investigate the relationship between driver gender and the arrested\n"
   ]
  },
  {
   "cell_type": "code",
   "execution_count": 11,
   "metadata": {
    "scrolled": true
   },
   "outputs": [
    {
     "name": "stderr",
     "output_type": "stream",
     "text": [
      "/usr/local/lib/python3.5/dist-packages/matplotlib/cbook.py:136: MatplotlibDeprecationWarning: The Vega20b colormap was deprecated in version 2.0. Use tab20b instead.\n",
      "  warnings.warn(message, mplDeprecation, stacklevel=1)\n"
     ]
    },
    {
     "data": {
      "image/png": "[encoded data removed]",
      "text/plain": [
       "<matplotlib.figure.Figure at 0x7fd2a54f6860>"
      ]
     },
     "metadata": {},
     "output_type": "display_data"
    }
   ],
   "source": [
    "#plot the figure of the data, using 8 values for y\n",
    "plt.figure(figsize=(10,8))\n",
    "#use seaborn to count the bond between the gender of the driver, and if arrested\n",
    "sns.countplot(traffic_violaions_df.driver_gender,hue=traffic_violaions_df.is_arrested,palette='Vega20b')\n",
    "plt.show()"
   ]
  },
  {
   "cell_type": "code",
   "execution_count": 28,
   "metadata": {
    "scrolled": true
   },
   "outputs": [
    {
     "name": "stderr",
     "output_type": "stream",
     "text": [
      "/usr/local/lib/python3.5/dist-packages/matplotlib/cbook.py:136: MatplotlibDeprecationWarning: The Vega20b colormap was deprecated in version 2.0. Use tab20b instead.\n",
      "  warnings.warn(message, mplDeprecation, stacklevel=1)\n",
      "/usr/local/lib/python3.5/dist-packages/scipy/stats/stats.py:1633: FutureWarning: Using a non-tuple sequence for multidimensional indexing is deprecated; use `arr[tuple(seq)]` instead of `arr[seq]`. In the future this will be interpreted as an array index, `arr[np.array(seq)]`, which will result either in an error or a different result.\n",
      "  return np.add.reduce(sorted[indexer] * weights, axis=axis) / sumval\n"
     ]
    },
    {
     "data": {
      "image/png": "[encoded data removed]",
      "text/plain": [
       "<matplotlib.figure.Figure at 0x7fd26b271f98>"
      ]
     },
     "metadata": {},
     "output_type": "display_data"
    }
   ],
   "source": [
    "#plot the figure of the data, using 8 values for y\n",
    "plt.figure(figsize=(10,5))\n",
    "#use seaborn to count the bond between the gender of the driver, and if arrested\n",
    "sns.barplot(x='driver_gender',y='is_arrested',data=traffic_violaions_df, palette='Vega20b')\n",
    "#plot the title \n",
    "plt.title('Gender vs is arrested')\n",
    "#plot the x label for the independent variable\n",
    "plt.xlabel('Gender')\n",
    "#plot the y label for the dependent vairable\n",
    "plt.ylabel('is arrested')\n",
    "#plot the overall table\n",
    "plt.show()"
   ]
  },
  {
   "cell_type": "code",
   "execution_count": 29,
   "metadata": {},
   "outputs": [
    {
     "data": {
      "text/html": [
       "<div>\n",
       "<style>\n",
       "    .dataframe thead tr:only-child th {\n",
       "        text-align: right;\n",
       "    }\n",
       "\n",
       "    .dataframe thead th {\n",
       "        text-align: left;\n",
       "    }\n",
       "\n",
       "    .dataframe tbody tr th {\n",
       "        vertical-align: top;\n",
       "    }\n",
       "</style>\n",
       "<table border=\"1\" class=\"dataframe\">\n",
       "  <thead>\n",
       "    <tr style=\"text-align: right;\">\n",
       "      <th></th>\n",
       "      <th></th>\n",
       "      <th>stop_date</th>\n",
       "    </tr>\n",
       "    <tr>\n",
       "      <th>driver_gender</th>\n",
       "      <th>is_arrested</th>\n",
       "      <th></th>\n",
       "    </tr>\n",
       "  </thead>\n",
       "  <tbody>\n",
       "    <tr>\n",
       "      <th rowspan=\"2\" valign=\"top\">F</th>\n",
       "      <th>False</th>\n",
       "      <td>12650</td>\n",
       "    </tr>\n",
       "    <tr>\n",
       "      <th>True</th>\n",
       "      <td>366</td>\n",
       "    </tr>\n",
       "    <tr>\n",
       "      <th rowspan=\"2\" valign=\"top\">M</th>\n",
       "      <th>False</th>\n",
       "      <td>35061</td>\n",
       "    </tr>\n",
       "    <tr>\n",
       "      <th>True</th>\n",
       "      <td>1503</td>\n",
       "    </tr>\n",
       "  </tbody>\n",
       "</table>\n",
       "</div>"
      ],
      "text/plain": [
       "                           stop_date\n",
       "driver_gender is_arrested           \n",
       "F             False            12650\n",
       "              True               366\n",
       "M             False            35061\n",
       "              True              1503"
      ]
     },
     "execution_count": 29,
     "metadata": {},
     "output_type": "execute_result"
    }
   ],
   "source": [
    "#set the index to driver_gender','is_arrested\n",
    "table = pd.pivot_table(traffic_violaions_df,values='stop_date',  \n",
    "                       index=['driver_gender','is_arrested'], aggfunc='count')\n",
    "table\n"
   ]
  },
  {
   "cell_type": "markdown",
   "metadata": {},
   "source": [
    "## Investigate the relationship between driver gender and the drugs related stop\n"
   ]
  },
  {
   "cell_type": "code",
   "execution_count": 24,
   "metadata": {},
   "outputs": [
    {
     "name": "stderr",
     "output_type": "stream",
     "text": [
      "/usr/local/lib/python3.5/dist-packages/matplotlib/cbook.py:136: MatplotlibDeprecationWarning: The Vega20b colormap was deprecated in version 2.0. Use tab20b instead.\n",
      "  warnings.warn(message, mplDeprecation, stacklevel=1)\n"
     ]
    },
    {
     "data": {
      "image/png": "[encoded data removed]",
      "text/plain": [
       "<matplotlib.figure.Figure at 0x7fd26b08f390>"
      ]
     },
     "metadata": {},
     "output_type": "display_data"
    }
   ],
   "source": [
    "#plot the figure using y axes as 8\n",
    "plt.figure(figsize=(10,8))\n",
    "#use seaboen \n",
    "sns.countplot(traffic_violaions_df.driver_gender,hue=traffic_violaions_df.drugs_related_stop,palette='Vega20b')\n",
    "#display the fig\n",
    "plt.show()"
   ]
  },
  {
   "cell_type": "code",
   "execution_count": 23,
   "metadata": {},
   "outputs": [
    {
     "name": "stderr",
     "output_type": "stream",
     "text": [
      "/usr/local/lib/python3.5/dist-packages/matplotlib/cbook.py:136: MatplotlibDeprecationWarning: The Vega20b colormap was deprecated in version 2.0. Use tab20b instead.\n",
      "  warnings.warn(message, mplDeprecation, stacklevel=1)\n",
      "/usr/local/lib/python3.5/dist-packages/scipy/stats/stats.py:1633: FutureWarning: Using a non-tuple sequence for multidimensional indexing is deprecated; use `arr[tuple(seq)]` instead of `arr[seq]`. In the future this will be interpreted as an array index, `arr[np.array(seq)]`, which will result either in an error or a different result.\n",
      "  return np.add.reduce(sorted[indexer] * weights, axis=axis) / sumval\n"
     ]
    },
    {
     "data": {
      "image/png": "[encoded data removed]",
      "text/plain": [
       "<matplotlib.figure.Figure at 0x7fd26affb3c8>"
      ]
     },
     "metadata": {},
     "output_type": "display_data"
    }
   ],
   "source": [
    "#plot the figure\n",
    "plt.figure(figsize=(10,5))\n",
    "#use seaboen\n",
    "sns.barplot(x='driver_gender',y='drugs_related_stop',data=traffic_violaions_df, palette='Vega20b')\n",
    "#plot title\n",
    "plt.title('Gender vs drugs related stop')\n",
    "#plot x axies\n",
    "plt.xlabel('Gender')\n",
    "#plot the y axies\n",
    "plt.ylabel('drugs related stop')\n",
    "#print the figure\n",
    "plt.show()"
   ]
  },
  {
   "cell_type": "code",
   "execution_count": 17,
   "metadata": {
    "scrolled": false
   },
   "outputs": [
    {
     "data": {
      "text/html": [
       "<div>\n",
       "<style scoped>\n",
       "    .dataframe tbody tr th:only-of-type {\n",
       "        vertical-align: middle;\n",
       "    }\n",
       "\n",
       "    .dataframe tbody tr th {\n",
       "        vertical-align: top;\n",
       "    }\n",
       "\n",
       "    .dataframe thead th {\n",
       "        text-align: right;\n",
       "    }\n",
       "</style>\n",
       "<table border=\"1\" class=\"dataframe\">\n",
       "  <thead>\n",
       "    <tr style=\"text-align: right;\">\n",
       "      <th></th>\n",
       "      <th></th>\n",
       "      <th>stop_date</th>\n",
       "    </tr>\n",
       "    <tr>\n",
       "      <th>driver_gender</th>\n",
       "      <th>drugs_related_stop</th>\n",
       "      <th></th>\n",
       "    </tr>\n",
       "  </thead>\n",
       "  <tbody>\n",
       "    <tr>\n",
       "      <th rowspan=\"2\" valign=\"top\">F</th>\n",
       "      <th>False</th>\n",
       "      <td>12972</td>\n",
       "    </tr>\n",
       "    <tr>\n",
       "      <th>True</th>\n",
       "      <td>44</td>\n",
       "    </tr>\n",
       "    <tr>\n",
       "      <th rowspan=\"2\" valign=\"top\">M</th>\n",
       "      <th>False</th>\n",
       "      <td>36212</td>\n",
       "    </tr>\n",
       "    <tr>\n",
       "      <th>True</th>\n",
       "      <td>352</td>\n",
       "    </tr>\n",
       "  </tbody>\n",
       "</table>\n",
       "</div>"
      ],
      "text/plain": [
       "                                  stop_date\n",
       "driver_gender drugs_related_stop           \n",
       "F             False                   12972\n",
       "              True                       44\n",
       "M             False                   36212\n",
       "              True                      352"
      ]
     },
     "execution_count": 17,
     "metadata": {},
     "output_type": "execute_result"
    }
   ],
   "source": [
    "#creating a table using panda dateframe for three columns\n",
    "table = pd.pivot_table(traffic_violaions_df,values='stop_date',  \n",
    "                       index=['driver_gender','drugs_related_stop'], aggfunc='count')\n",
    "table\n"
   ]
  },
  {
   "cell_type": "markdown",
   "metadata": {},
   "source": [
    "## Investigate the relationship between driver race and the arrested\n"
   ]
  },
  {
   "cell_type": "code",
   "execution_count": 13,
   "metadata": {},
   "outputs": [
    {
     "name": "stderr",
     "output_type": "stream",
     "text": [
      "/usr/local/lib/python3.5/dist-packages/matplotlib/cbook.py:136: MatplotlibDeprecationWarning: The Vega20b colormap was deprecated in version 2.0. Use tab20b instead.\n",
      "  warnings.warn(message, mplDeprecation, stacklevel=1)\n"
     ]
    },
    {
     "data": {
      "image/png": "[encoded data removed]",
      "text/plain": [
       "<matplotlib.figure.Figure at 0x7fd269f5def0>"
      ]
     },
     "metadata": {},
     "output_type": "display_data"
    }
   ],
   "source": [
    "#plot the figure\n",
    "plt.figure(figsize=(10,8))\n",
    "#use seaborn\n",
    "sns.countplot(traffic_violaions_df.driver_race,hue=traffic_violaions_df.is_arrested,palette='Vega20b')\n",
    "#plot or print the fig\n",
    "plt.show()\n"
   ]
  },
  {
   "cell_type": "code",
   "execution_count": 25,
   "metadata": {},
   "outputs": [
    {
     "name": "stderr",
     "output_type": "stream",
     "text": [
      "/usr/local/lib/python3.5/dist-packages/matplotlib/cbook.py:136: MatplotlibDeprecationWarning: The Vega20b colormap was deprecated in version 2.0. Use tab20b instead.\n",
      "  warnings.warn(message, mplDeprecation, stacklevel=1)\n",
      "/usr/local/lib/python3.5/dist-packages/scipy/stats/stats.py:1633: FutureWarning: Using a non-tuple sequence for multidimensional indexing is deprecated; use `arr[tuple(seq)]` instead of `arr[seq]`. In the future this will be interpreted as an array index, `arr[np.array(seq)]`, which will result either in an error or a different result.\n",
      "  return np.add.reduce(sorted[indexer] * weights, axis=axis) / sumval\n"
     ]
    },
    {
     "data": {
      "image/png": "[encoded data removed]",
      "text/plain": [
       "<matplotlib.figure.Figure at 0x7fd26af5d128>"
      ]
     },
     "metadata": {},
     "output_type": "display_data"
    }
   ],
   "source": [
    "#plot the figure\n",
    "plt.figure(figsize=(10,5))\n",
    "#use seaborn to plot x, and y axies\n",
    "sns.barplot(x='driver_race',y='is_arrested',data=traffic_violaions_df, palette='Vega20b')\n",
    "#set title\n",
    "plt.title('driver_race vs is_arrested')\n",
    "#set label x\n",
    "plt.xlabel('Race')\n",
    "#set table y\n",
    "plt.ylabel('is_arrested')\n",
    "#plot the figure\n",
    "plt.show()"
   ]
  },
  {
   "cell_type": "code",
   "execution_count": 20,
   "metadata": {},
   "outputs": [
    {
     "data": {
      "text/html": [
       "<div>\n",
       "<style scoped>\n",
       "    .dataframe tbody tr th:only-of-type {\n",
       "        vertical-align: middle;\n",
       "    }\n",
       "\n",
       "    .dataframe tbody tr th {\n",
       "        vertical-align: top;\n",
       "    }\n",
       "\n",
       "    .dataframe thead th {\n",
       "        text-align: right;\n",
       "    }\n",
       "</style>\n",
       "<table border=\"1\" class=\"dataframe\">\n",
       "  <thead>\n",
       "    <tr style=\"text-align: right;\">\n",
       "      <th></th>\n",
       "      <th></th>\n",
       "      <th>stop_date</th>\n",
       "    </tr>\n",
       "    <tr>\n",
       "      <th>driver_race</th>\n",
       "      <th>is_arrested</th>\n",
       "      <th></th>\n",
       "    </tr>\n",
       "  </thead>\n",
       "  <tbody>\n",
       "    <tr>\n",
       "      <th rowspan=\"2\" valign=\"top\">Asian</th>\n",
       "      <th>False</th>\n",
       "      <td>1345</td>\n",
       "    </tr>\n",
       "    <tr>\n",
       "      <th>True</th>\n",
       "      <td>30</td>\n",
       "    </tr>\n",
       "    <tr>\n",
       "      <th rowspan=\"2\" valign=\"top\">Black</th>\n",
       "      <th>False</th>\n",
       "      <td>6136</td>\n",
       "    </tr>\n",
       "    <tr>\n",
       "      <th>True</th>\n",
       "      <td>458</td>\n",
       "    </tr>\n",
       "    <tr>\n",
       "      <th rowspan=\"2\" valign=\"top\">Hispanic</th>\n",
       "      <th>False</th>\n",
       "      <td>3830</td>\n",
       "    </tr>\n",
       "    <tr>\n",
       "      <th>True</th>\n",
       "      <td>269</td>\n",
       "    </tr>\n",
       "    <tr>\n",
       "      <th rowspan=\"2\" valign=\"top\">Other</th>\n",
       "      <th>False</th>\n",
       "      <td>147</td>\n",
       "    </tr>\n",
       "    <tr>\n",
       "      <th>True</th>\n",
       "      <td>2</td>\n",
       "    </tr>\n",
       "    <tr>\n",
       "      <th rowspan=\"2\" valign=\"top\">White</th>\n",
       "      <th>False</th>\n",
       "      <td>36254</td>\n",
       "    </tr>\n",
       "    <tr>\n",
       "      <th>True</th>\n",
       "      <td>1110</td>\n",
       "    </tr>\n",
       "  </tbody>\n",
       "</table>\n",
       "</div>"
      ],
      "text/plain": [
       "                         stop_date\n",
       "driver_race is_arrested           \n",
       "Asian       False             1345\n",
       "            True                30\n",
       "Black       False             6136\n",
       "            True               458\n",
       "Hispanic    False             3830\n",
       "            True               269\n",
       "Other       False              147\n",
       "            True                 2\n",
       "White       False            36254\n",
       "            True              1110"
      ]
     },
     "execution_count": 20,
     "metadata": {},
     "output_type": "execute_result"
    }
   ],
   "source": [
    "#creating a table using panda dateframe for three columns\n",
    "table = pd.pivot_table(traffic_violaions_df,values='stop_date',  \n",
    "                       index=['driver_race','is_arrested'], aggfunc='count')\n",
    "table\n"
   ]
  },
  {
   "cell_type": "markdown",
   "metadata": {},
   "source": [
    "## Investigate the relationship between gender and the category of violation\n"
   ]
  },
  {
   "cell_type": "code",
   "execution_count": 12,
   "metadata": {},
   "outputs": [
    {
     "name": "stderr",
     "output_type": "stream",
     "text": [
      "/usr/local/lib/python3.5/dist-packages/matplotlib/cbook.py:136: MatplotlibDeprecationWarning: The Vega20b colormap was deprecated in version 2.0. Use tab20b instead.\n",
      "  warnings.warn(message, mplDeprecation, stacklevel=1)\n"
     ]
    },
    {
     "data": {
      "image/png": "[encoded data removed]",
      "text/plain": [
       "<matplotlib.figure.Figure at 0x7fd26b3fc5f8>"
      ]
     },
     "metadata": {},
     "output_type": "display_data"
    }
   ],
   "source": [
    "#plot the figure\n",
    "plt.figure(figsize=(10,8))\n",
    "#use seaborn to show stats \n",
    "sns.countplot(traffic_violaions_df.driver_gender,hue=traffic_violaions_df.violation,palette='Vega20b')\n",
    "#print the ploted figure\n",
    "plt.show()\n"
   ]
  },
  {
   "cell_type": "code",
   "execution_count": 22,
   "metadata": {},
   "outputs": [
    {
     "data": {
      "text/html": [
       "<div>\n",
       "<style scoped>\n",
       "    .dataframe tbody tr th:only-of-type {\n",
       "        vertical-align: middle;\n",
       "    }\n",
       "\n",
       "    .dataframe tbody tr th {\n",
       "        vertical-align: top;\n",
       "    }\n",
       "\n",
       "    .dataframe thead th {\n",
       "        text-align: right;\n",
       "    }\n",
       "</style>\n",
       "<table border=\"1\" class=\"dataframe\">\n",
       "  <thead>\n",
       "    <tr style=\"text-align: right;\">\n",
       "      <th></th>\n",
       "      <th></th>\n",
       "      <th>stop_date</th>\n",
       "    </tr>\n",
       "    <tr>\n",
       "      <th>driver_gender</th>\n",
       "      <th>violation</th>\n",
       "      <th></th>\n",
       "    </tr>\n",
       "  </thead>\n",
       "  <tbody>\n",
       "    <tr>\n",
       "      <th rowspan=\"5\" valign=\"top\">F</th>\n",
       "      <th>Equipment</th>\n",
       "      <td>855</td>\n",
       "    </tr>\n",
       "    <tr>\n",
       "      <th>Moving violation</th>\n",
       "      <td>1390</td>\n",
       "    </tr>\n",
       "    <tr>\n",
       "      <th>Other</th>\n",
       "      <td>354</td>\n",
       "    </tr>\n",
       "    <tr>\n",
       "      <th>Registration/plates</th>\n",
       "      <td>504</td>\n",
       "    </tr>\n",
       "    <tr>\n",
       "      <th>Speeding</th>\n",
       "      <td>9913</td>\n",
       "    </tr>\n",
       "    <tr>\n",
       "      <th rowspan=\"5\" valign=\"top\">M</th>\n",
       "      <th>Equipment</th>\n",
       "      <td>3421</td>\n",
       "    </tr>\n",
       "    <tr>\n",
       "      <th>Moving violation</th>\n",
       "      <td>6995</td>\n",
       "    </tr>\n",
       "    <tr>\n",
       "      <th>Other</th>\n",
       "      <td>2607</td>\n",
       "    </tr>\n",
       "    <tr>\n",
       "      <th>Registration/plates</th>\n",
       "      <td>1316</td>\n",
       "    </tr>\n",
       "    <tr>\n",
       "      <th>Speeding</th>\n",
       "      <td>22225</td>\n",
       "    </tr>\n",
       "  </tbody>\n",
       "</table>\n",
       "</div>"
      ],
      "text/plain": [
       "                                   stop_date\n",
       "driver_gender violation                     \n",
       "F             Equipment                  855\n",
       "              Moving violation          1390\n",
       "              Other                      354\n",
       "              Registration/plates        504\n",
       "              Speeding                  9913\n",
       "M             Equipment                 3421\n",
       "              Moving violation          6995\n",
       "              Other                     2607\n",
       "              Registration/plates       1316\n",
       "              Speeding                 22225"
      ]
     },
     "execution_count": 22,
     "metadata": {},
     "output_type": "execute_result"
    }
   ],
   "source": [
    "#creating a table using panda dateframe for three columns\n",
    "table = pd.pivot_table(traffic_violaions_df,values='stop_date',  \n",
    "                       index=['driver_gender','violation'], aggfunc='count')\n",
    "table\n"
   ]
  },
  {
   "cell_type": "markdown",
   "metadata": {},
   "source": [
    "### Investigate the relationship between driver race and driver gender"
   ]
  },
  {
   "cell_type": "code",
   "execution_count": 17,
   "metadata": {},
   "outputs": [
    {
     "name": "stderr",
     "output_type": "stream",
     "text": [
      "/usr/local/lib/python3.5/dist-packages/matplotlib/cbook.py:136: MatplotlibDeprecationWarning: The Vega20b colormap was deprecated in version 2.0. Use tab20b instead.\n",
      "  warnings.warn(message, mplDeprecation, stacklevel=1)\n"
     ]
    },
    {
     "data": {
      "text/plain": [
       "<seaborn.axisgrid.FacetGrid at 0x7fd26b3a4390>"
      ]
     },
     "execution_count": 17,
     "metadata": {},
     "output_type": "execute_result"
    },
    {
     "data": {
      "image/png": "[encoded data removed]",
      "text/plain": [
       "<matplotlib.figure.Figure at 0x7fd26b253c18>"
      ]
     },
     "metadata": {},
     "output_type": "display_data"
    }
   ],
   "source": [
    "#use seaborn to show x and y axies\n",
    "sns.catplot(x=\"driver_race\", kind=\"count\", data=traffic_violaions_df, hue='driver_gender', aspect = 2.5, height=7.5, palette='Vega20b')"
   ]
  },
  {
   "cell_type": "markdown",
   "metadata": {},
   "source": [
    "### Investigate the relationship between stop duration and driver gender"
   ]
  },
  {
   "cell_type": "code",
   "execution_count": 18,
   "metadata": {},
   "outputs": [
    {
     "name": "stderr",
     "output_type": "stream",
     "text": [
      "/usr/local/lib/python3.5/dist-packages/matplotlib/cbook.py:136: MatplotlibDeprecationWarning: The Vega20b colormap was deprecated in version 2.0. Use tab20b instead.\n",
      "  warnings.warn(message, mplDeprecation, stacklevel=1)\n"
     ]
    },
    {
     "data": {
      "text/plain": [
       "<seaborn.axisgrid.FacetGrid at 0x7fd26b38c0f0>"
      ]
     },
     "execution_count": 18,
     "metadata": {},
     "output_type": "execute_result"
    },
    {
     "data": {
      "image/png": "[encoded data removed]",
      "text/plain": [
       "<matplotlib.figure.Figure at 0x7fd26b198438>"
      ]
     },
     "metadata": {},
     "output_type": "display_data"
    }
   ],
   "source": [
    "#use seaborn to plot x and y\n",
    "sns.catplot(x='stop_duration',kind='count' ,data=traffic_violaions_df, aspect = 1.5, height=7.5, hue = 'driver_gender', palette='Vega20b')"
   ]
  },
  {
   "cell_type": "code",
   "execution_count": 25,
   "metadata": {},
   "outputs": [
    {
     "data": {
      "text/plain": [
       "0-15 Min     37433\n",
       "16-30 Min     9845\n",
       "30+ Min       2303\n",
       "Name: stop_duration, dtype: int64"
      ]
     },
     "execution_count": 25,
     "metadata": {},
     "output_type": "execute_result"
    }
   ],
   "source": [
    "#calcuate and coubt the number of stopped times\n",
    "traffic_violaions_df['stop_duration'].value_counts()"
   ]
  },
  {
   "cell_type": "markdown",
   "metadata": {},
   "source": [
    "### Investigate the relationship between driver age and arrested"
   ]
  },
  {
   "cell_type": "code",
   "execution_count": 20,
   "metadata": {},
   "outputs": [
    {
     "name": "stderr",
     "output_type": "stream",
     "text": [
      "/usr/local/lib/python3.5/dist-packages/matplotlib/cbook.py:136: MatplotlibDeprecationWarning: The Vega20b colormap was deprecated in version 2.0. Use tab20b instead.\n",
      "  warnings.warn(message, mplDeprecation, stacklevel=1)\n",
      "/usr/local/lib/python3.5/dist-packages/scipy/stats/stats.py:1633: FutureWarning: Using a non-tuple sequence for multidimensional indexing is deprecated; use `arr[tuple(seq)]` instead of `arr[seq]`. In the future this will be interpreted as an array index, `arr[np.array(seq)]`, which will result either in an error or a different result.\n",
      "  return np.add.reduce(sorted[indexer] * weights, axis=axis) / sumval\n"
     ]
    },
    {
     "data": {
      "image/png": "[encoded data removed]",
      "text/plain": [
       "<matplotlib.figure.Figure at 0x7fd26b175be0>"
      ]
     },
     "metadata": {},
     "output_type": "display_data"
    }
   ],
   "source": [
    "#plot the figure\n",
    "plt.figure(figsize=(10,5))\n",
    "#use seaborn\n",
    "sns.barplot(x='is_arrested',y='driver_age',data=traffic_violaions_df, palette='Vega20b')\n",
    "#set title of the figure\n",
    "plt.title('Arrested vs Age')\n",
    "#set the title of the x axies\n",
    "plt.xlabel('Arrested')\n",
    "#set the table for y axies\n",
    "plt.ylabel('Age')\n",
    "#plot the figure\n",
    "plt.show()"
   ]
  },
  {
   "cell_type": "markdown",
   "metadata": {},
   "source": [
    "### Investigate the relationship between drug related and age"
   ]
  },
  {
   "cell_type": "code",
   "execution_count": 22,
   "metadata": {},
   "outputs": [
    {
     "name": "stderr",
     "output_type": "stream",
     "text": [
      "/usr/local/lib/python3.5/dist-packages/matplotlib/cbook.py:136: MatplotlibDeprecationWarning: The Vega20b colormap was deprecated in version 2.0. Use tab20b instead.\n",
      "  warnings.warn(message, mplDeprecation, stacklevel=1)\n",
      "/usr/local/lib/python3.5/dist-packages/scipy/stats/stats.py:1633: FutureWarning: Using a non-tuple sequence for multidimensional indexing is deprecated; use `arr[tuple(seq)]` instead of `arr[seq]`. In the future this will be interpreted as an array index, `arr[np.array(seq)]`, which will result either in an error or a different result.\n",
      "  return np.add.reduce(sorted[indexer] * weights, axis=axis) / sumval\n"
     ]
    },
    {
     "data": {
      "image/png": "[encoded data removed]",
      "text/plain": [
       "<matplotlib.figure.Figure at 0x7fd26b0087f0>"
      ]
     },
     "metadata": {},
     "output_type": "display_data"
    }
   ],
   "source": [
    "#plot the figure\n",
    "plt.figure(figsize=(10,5))\n",
    "#use seaborn\n",
    "sns.barplot(x='drugs_related_stop',y='driver_age',data=traffic_violaions_df, palette='Vega20b')\n",
    "#set title\n",
    "plt.title('Drug Related vs Age')\n",
    "#set x label\n",
    "plt.xlabel('Drug Related')\n",
    "#set y label\n",
    "plt.ylabel('Age')\n",
    "#print the figure\n",
    "plt.show()"
   ]
  },
  {
   "cell_type": "code",
   "execution_count": 25,
   "metadata": {
    "scrolled": true
   },
   "outputs": [
    {
     "data": {
      "text/html": [
       "<div>\n",
       "<style scoped>\n",
       "    .dataframe tbody tr th:only-of-type {\n",
       "        vertical-align: middle;\n",
       "    }\n",
       "\n",
       "    .dataframe tbody tr th {\n",
       "        vertical-align: top;\n",
       "    }\n",
       "\n",
       "    .dataframe thead th {\n",
       "        text-align: right;\n",
       "    }\n",
       "</style>\n",
       "<table border=\"1\" class=\"dataframe\">\n",
       "  <thead>\n",
       "    <tr style=\"text-align: right;\">\n",
       "      <th></th>\n",
       "      <th>\"age less than 18\"</th>\n",
       "      <th>percentage</th>\n",
       "    </tr>\n",
       "  </thead>\n",
       "  <tbody>\n",
       "    <tr>\n",
       "      <th>0</th>\n",
       "      <td>age from 18 to 40</td>\n",
       "      <td>62.070007</td>\n",
       "    </tr>\n",
       "    <tr>\n",
       "      <th>1</th>\n",
       "      <td>age less than 18</td>\n",
       "      <td>2.939622</td>\n",
       "    </tr>\n",
       "    <tr>\n",
       "      <th>2</th>\n",
       "      <td>age over 40</td>\n",
       "      <td>28.155798</td>\n",
       "    </tr>\n",
       "  </tbody>\n",
       "</table>\n",
       "</div>"
      ],
      "text/plain": [
       "  \"age less than 18\"  percentage\n",
       "0  age from 18 to 40   62.070007\n",
       "1   age less than 18    2.939622\n",
       "2        age over 40   28.155798"
      ]
     },
     "execution_count": 25,
     "metadata": {},
     "output_type": "execute_result"
    }
   ],
   "source": [
    "query = '''\n",
    "SELECT \"age less than 18\",\n",
    "(\n",
    "cast ( (SELECT count(*) FROM traffic_violaions_df where driver_age <= 18) * 100 as float)\n",
    "/\n",
    "(SELECT count(*) FROM traffic_violaions_df) \n",
    ") as \"percentage\"\n",
    "\n",
    "union\n",
    "SELECT \"age from 18 to 40\",\n",
    "(\n",
    "cast ( (SELECT count(*) FROM traffic_violaions_df where driver_age > 18 and driver_age <=40 ) * 100 as float)\n",
    "/\n",
    "(SELECT count(*) FROM traffic_violaions_df) \n",
    ") as \"percentage\"\n",
    "\n",
    "\n",
    "union\n",
    "SELECT \"age over 40\",\n",
    "(\n",
    "cast ( (SELECT count(*) FROM traffic_violaions_df where driver_age >40 ) * 100 as float)\n",
    "/\n",
    "(SELECT count(*) FROM traffic_violaions_df) \n",
    ") as \"percentage\"\n",
    "'''\n",
    "# set python sql dataframe to query\n",
    "result = pysqldf(query)\n",
    "#print the sql query    \n",
    "result "
   ]
  },
  {
   "cell_type": "code",
   "execution_count": 30,
   "metadata": {},
   "outputs": [
    {
     "data": {
      "text/html": [
       "<div>\n",
       "<style scoped>\n",
       "    .dataframe tbody tr th:only-of-type {\n",
       "        vertical-align: middle;\n",
       "    }\n",
       "\n",
       "    .dataframe tbody tr th {\n",
       "        vertical-align: top;\n",
       "    }\n",
       "\n",
       "    .dataframe thead th {\n",
       "        text-align: right;\n",
       "    }\n",
       "</style>\n",
       "<table border=\"1\" class=\"dataframe\">\n",
       "  <thead>\n",
       "    <tr style=\"text-align: right;\">\n",
       "      <th></th>\n",
       "      <th>\"Speeding\"</th>\n",
       "      <th>percentage</th>\n",
       "    </tr>\n",
       "  </thead>\n",
       "  <tbody>\n",
       "    <tr>\n",
       "      <th>0</th>\n",
       "      <td>Equipment</td>\n",
       "      <td>8.073104</td>\n",
       "    </tr>\n",
       "    <tr>\n",
       "      <th>1</th>\n",
       "      <td>Moving violation</td>\n",
       "      <td>15.830910</td>\n",
       "    </tr>\n",
       "    <tr>\n",
       "      <th>2</th>\n",
       "      <td>Registration/plates</td>\n",
       "      <td>8.073104</td>\n",
       "    </tr>\n",
       "    <tr>\n",
       "      <th>3</th>\n",
       "      <td>Speeding</td>\n",
       "      <td>60.678549</td>\n",
       "    </tr>\n",
       "    <tr>\n",
       "      <th>4</th>\n",
       "      <td>other</td>\n",
       "      <td>8.073104</td>\n",
       "    </tr>\n",
       "  </tbody>\n",
       "</table>\n",
       "</div>"
      ],
      "text/plain": [
       "            \"Speeding\"  percentage\n",
       "0            Equipment    8.073104\n",
       "1     Moving violation   15.830910\n",
       "2  Registration/plates    8.073104\n",
       "3             Speeding   60.678549\n",
       "4                other    8.073104"
      ]
     },
     "execution_count": 30,
     "metadata": {},
     "output_type": "execute_result"
    }
   ],
   "source": [
    "\n",
    "query = '''\n",
    "make a projection\n",
    "SELECT \"Speeding\",\n",
    "(\n",
    "agrigattion function to cast\n",
    "cast ( (SELECT count(*) FROM traffic_violaions_df where violation = \"Speeding\") * 100 as float)\n",
    "/\n",
    "select the counted rows from the table\n",
    "(SELECT count(*) FROM traffic_violaions_df) \n",
    ") as \"percentage\"\n",
    "\n",
    "make a vertical join, namely join \n",
    "union\n",
    "\n",
    "select the viloation of the movment \n",
    "SELECT \"Moving violation\",\n",
    "(\n",
    "cast ( (SELECT count(*) FROM traffic_violaions_df where violation = \"Moving violation\") * 100 as float)\n",
    "/\n",
    "(SELECT count(*) FROM traffic_violaions_df) \n",
    ") as \"percentage\"\n",
    "\n",
    "union\n",
    "\n",
    "SELECT \"Registration/plates\",\n",
    "(\n",
    "cast ( (SELECT count(*) FROM traffic_violaions_df where violation = \"Equipment\") * 100 as float)\n",
    "/\n",
    "(SELECT count(*) FROM traffic_violaions_df) \n",
    ") as \"percentage\"\n",
    "\n",
    "union\n",
    "\n",
    "SELECT \"Equipment\",\n",
    "(\n",
    "cast ( (SELECT count(*) FROM traffic_violaions_df where violation = \"Equipment\") * 100 as float)\n",
    "/\n",
    "(SELECT count(*) FROM traffic_violaions_df) \n",
    ") as \"percentage\"\n",
    "\n",
    "union\n",
    "\n",
    "SELECT \"other\",\n",
    "(\n",
    "cast ( (SELECT count(*) FROM traffic_violaions_df where violation = \"Equipment\") * 100 as float)\n",
    "/\n",
    "(SELECT count(*) FROM traffic_violaions_df) \n",
    ") as \"percentage\"\n",
    "\n",
    "'''\n",
    "# set python sql dataframe to query\n",
    "result = pysqldf(query)\n",
    "#print the sql query    \n",
    "result "
   ]
  }
 ],
 "metadata": {
  "kernelspec": {
   "display_name": "Python 3",
   "language": "python",
   "name": "python3"
  },
  "language_info": {
   "codemirror_mode": {
    "name": "ipython",
    "version": 3
   },
   "file_extension": ".py",
   "mimetype": "text/x-python",
   "name": "python",
   "nbconvert_exporter": "python",
   "pygments_lexer": "ipython3",
   "version": "3.5.2"
  }
 },
 "nbformat": 4,
 "nbformat_minor": 2
}
